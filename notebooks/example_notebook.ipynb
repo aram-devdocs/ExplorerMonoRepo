{
 "cells": [
  {
   "cell_type": "code",
   "execution_count": 1,
   "metadata": {},
   "outputs": [
    {
     "name": "stdout",
     "output_type": "stream",
     "text": [
      "Service is healthy\n",
      "{'status': 'healthy'}\n"
     ]
    }
   ],
   "source": [
    "from libs.shared.utils import HttpClient, JSON\n",
    "\n",
    "\n",
    "client = HttpClient()\n",
    "\n",
    "response, content = client.get(\"/health\")\n",
    "\n",
    "if response.status == 200:\n",
    "    print(\"Service is healthy\")\n",
    "    print(JSON.parse(content))\n",
    "else:\n",
    "    print(\"Service is not healthy\")\n",
    "    print(f\"Status code: {response.status}\")\n",
    "    print(f\"Response content: {content}\")\n",
    "\n",
    "\n"
   ]
  },
  {
   "cell_type": "code",
   "execution_count": 31,
   "metadata": {},
   "outputs": [
    {
     "name": "stdout",
     "output_type": "stream",
     "text": [
      "API key generated successfully\n",
      "{'api_key': \"b'gAAAAABnHJBF3tF_vhV-WkpVb4D-qSx54dbjOSdmTfAs5UJSOhxMaiaRvRG5uCKRVe96qEIyAZkksrOl_2ER8rDNbFVzL4-406FLJCqHZJT7RrO8HM1rjC5yW9pIH9AZLT2ZfxUY7fuR'\"}\n"
     ]
    }
   ],
   "source": [
    "from libs.shared.data_transfer.dto import ApiKeyCreateDTO\n",
    "\n",
    "api_key_dto = ApiKeyCreateDTO(\n",
    "    user_id=\"1\",\n",
    "    is_admin=True,\n",
    ")\n",
    "\n",
    "api_key_dto_json = JSON.stringify_DTO(api_key_dto)\n",
    "\n",
    "\n",
    "response, content = client.post(\"/generate_key\", api_key_dto_json)\n",
    "\n",
    "if response.status == 201:\n",
    "    print(\"API key generated successfully\")\n",
    "    print(JSON.parse(content))\n",
    "else:\n",
    "    print(\"Failed to generate API key\")\n",
    "    print(f\"Status code: {response.status}\")\n",
    "    print(f\"Response content: {content}\")\n",
    "\n",
    "\n",
    "\n",
    "\n"
   ]
  },
  {
   "cell_type": "code",
   "execution_count": 28,
   "metadata": {},
   "outputs": [
    {
     "name": "stdout",
     "output_type": "stream",
     "text": [
      "Failed to create user\n",
      "Status code: 500\n",
      "Response content: b'{\"message\": \"Internal Server Error\"}\\n'\n"
     ]
    }
   ],
   "source": [
    "from libs.shared.data_transfer.dto import UserCreateDTO\n",
    "\n",
    "user = UserCreateDTO(name=\"John Doe\", email=\"joh31n@doe.com\")\n",
    "\n",
    "# Serialize the user object to JSON\n",
    "user_json = JSON.stringify_DTO(user)\n",
    "\n",
    "response, content = client.post(\"/users\", user_json)\n",
    "\n",
    "if response.status == 201:\n",
    "    print(\"User created successfully\")\n",
    "    print(JSON.parse(content))\n",
    "else:\n",
    "    print(\"Failed to create user\")\n",
    "    print(f\"Status code: {response.status}\")\n",
    "    print(f\"Response content: {content}\")\n"
   ]
  },
  {
   "cell_type": "code",
   "execution_count": 17,
   "metadata": {},
   "outputs": [
    {
     "data": {
      "text/plain": [
       "b'{\"id\": 2, \"name\": \"John Doe\", \"email\": \"joh1n@doe.com\"}\\n'"
      ]
     },
     "execution_count": 17,
     "metadata": {},
     "output_type": "execute_result"
    }
   ],
   "source": [
    "content"
   ]
  }
 ],
 "metadata": {
  "kernelspec": {
   "display_name": "explorer-mono-repo-mP_9dbZU-py3.12",
   "language": "python",
   "name": "python3"
  },
  "language_info": {
   "codemirror_mode": {
    "name": "ipython",
    "version": 3
   },
   "file_extension": ".py",
   "mimetype": "text/x-python",
   "name": "python",
   "nbconvert_exporter": "python",
   "pygments_lexer": "ipython3",
   "version": "3.12.4"
  }
 },
 "nbformat": 4,
 "nbformat_minor": 2
}
