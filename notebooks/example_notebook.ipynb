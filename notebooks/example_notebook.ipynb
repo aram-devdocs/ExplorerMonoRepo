{
 "cells": [
  {
   "cell_type": "code",
   "execution_count": 4,
   "metadata": {},
   "outputs": [
    {
     "name": "stdout",
     "output_type": "stream",
     "text": [
      "Service is healthy\n",
      "{'status': 'healthy'}\n"
     ]
    }
   ],
   "source": [
    "from libs.shared.utils import HttpClient, JSON\n",
    "\n",
    "\n",
    "client = HttpClient()\n",
    "\n",
    "response, content = client.get(\"/health\")\n",
    "\n",
    "if response.status == 200:\n",
    "    print(\"Service is healthy\")\n",
    "    print(JSON.parse(content))\n",
    "else:\n",
    "    print(\"Service is not healthy\")\n",
    "    print(f\"Status code: {response.status}\")\n",
    "    print(f\"Response content: {content}\")\n",
    "\n",
    "\n"
   ]
  },
  {
   "cell_type": "code",
   "execution_count": 9,
   "metadata": {},
   "outputs": [
    {
     "ename": "TypeError",
     "evalue": "JSON.stringify() got an unexpected keyword argument 'default'",
     "output_type": "error",
     "traceback": [
      "\u001b[0;31m---------------------------------------------------------------------------\u001b[0m",
      "\u001b[0;31mTypeError\u001b[0m                                 Traceback (most recent call last)",
      "Cell \u001b[0;32mIn[10], line 12\u001b[0m\n\u001b[1;32m      9\u001b[0m     \u001b[38;5;28;01mraise\u001b[39;00m \u001b[38;5;167;01mTypeError\u001b[39;00m(\u001b[38;5;124mf\u001b[39m\u001b[38;5;124m\"\u001b[39m\u001b[38;5;124mObject of type \u001b[39m\u001b[38;5;132;01m{\u001b[39;00mobj\u001b[38;5;241m.\u001b[39m\u001b[38;5;18m__class__\u001b[39m\u001b[38;5;241m.\u001b[39m\u001b[38;5;18m__name__\u001b[39m\u001b[38;5;132;01m}\u001b[39;00m\u001b[38;5;124m is not JSON serializable\u001b[39m\u001b[38;5;124m\"\u001b[39m)\n\u001b[1;32m     11\u001b[0m \u001b[38;5;66;03m# Serialize the user object to JSON\u001b[39;00m\n\u001b[0;32m---> 12\u001b[0m user_json \u001b[38;5;241m=\u001b[39m \u001b[43mJSON\u001b[49m\u001b[38;5;241;43m.\u001b[39;49m\u001b[43mstringify\u001b[49m\u001b[43m(\u001b[49m\u001b[43muser\u001b[49m\u001b[43m,\u001b[49m\u001b[43m \u001b[49m\u001b[43mdefault\u001b[49m\u001b[38;5;241;43m=\u001b[39;49m\u001b[43muser_create_dto_serializer\u001b[49m\u001b[43m)\u001b[49m\n\u001b[1;32m     14\u001b[0m response, content \u001b[38;5;241m=\u001b[39m client\u001b[38;5;241m.\u001b[39mpost(\u001b[38;5;124m\"\u001b[39m\u001b[38;5;124m/users\u001b[39m\u001b[38;5;124m\"\u001b[39m, user_json)\n",
      "\u001b[0;31mTypeError\u001b[0m: JSON.stringify() got an unexpected keyword argument 'default'"
     ]
    }
   ],
   "source": [
    "from libs.shared.data_transfer.dto import UserCreateDTO\n",
    "\n",
    "user = UserCreateDTO(name=\"John Doe\", email=\"john@doe.com\")\n",
    "\n",
    "# Serialize the user object to JSON\n",
    "user_json = JSON.stringify_DTO(user)\n",
    "\n",
    "response, content = client.post(\"/users\", user_json)\n"
   ]
  }
 ],
 "metadata": {
  "kernelspec": {
   "display_name": "explorer-mono-repo-mP_9dbZU-py3.12",
   "language": "python",
   "name": "python3"
  },
  "language_info": {
   "codemirror_mode": {
    "name": "ipython",
    "version": 3
   },
   "file_extension": ".py",
   "mimetype": "text/x-python",
   "name": "python",
   "nbconvert_exporter": "python",
   "pygments_lexer": "ipython3",
   "version": "3.12.4"
  }
 },
 "nbformat": 4,
 "nbformat_minor": 2
}
