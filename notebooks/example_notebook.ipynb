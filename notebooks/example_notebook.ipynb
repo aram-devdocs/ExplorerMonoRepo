{
 "cells": [
  {
   "cell_type": "code",
   "execution_count": null,
   "metadata": {},
   "outputs": [],
   "source": [
    "from libs.shared.utils import HttpClient, JSON\n",
    "\n",
    "\n",
    "client = HttpClient()\n",
    "\n",
    "response, content = client.get(\"/health\")\n",
    "\n",
    "if response.status == 200:\n",
    "    print(\"Service is healthy\")\n",
    "    print(JSON.parse(content))\n",
    "else:\n",
    "    print(\"Service is not healthy\")\n",
    "    print(f\"Status code: {response.status}\")\n",
    "    print(f\"Response content: {content}\")\n",
    "\n",
    "\n"
   ]
  },
  {
   "cell_type": "code",
   "execution_count": null,
   "metadata": {},
   "outputs": [],
   "source": [
    "from libs.shared.data_transfer.dto import UserCreateDTO\n",
    "\n",
    "user = UserCreateDTO(name=\"John Doe\", email=\"john@doe.com\")\n",
    "\n",
    "# Serialize the user object to JSON\n",
    "user_json = JSON.stringify_DTO(user)\n",
    "\n",
    "response, content = client.post(\"/users\", user_json)\n",
    "\n",
    "if response.status == 201:\n",
    "    print(\"User created successfully\")\n",
    "    print(JSON.parse(content))\n",
    "else:\n",
    "    print(\"Failed to create user\")\n",
    "    print(f\"Status code: {response.status}\")\n",
    "    print(f\"Response content: {content}\")\n"
   ]
  }
 ],
 "metadata": {
  "kernelspec": {
   "display_name": "explorer-mono-repo-mP_9dbZU-py3.12",
   "language": "python",
   "name": "python3"
  },
  "language_info": {
   "codemirror_mode": {
    "name": "ipython",
    "version": 3
   },
   "file_extension": ".py",
   "mimetype": "text/x-python",
   "name": "python",
   "nbconvert_exporter": "python",
   "pygments_lexer": "ipython3",
   "version": "3.12.4"
  }
 },
 "nbformat": 4,
 "nbformat_minor": 2
}
