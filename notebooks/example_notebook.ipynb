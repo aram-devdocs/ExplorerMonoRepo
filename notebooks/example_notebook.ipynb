{
 "cells": [
  {
   "cell_type": "code",
   "execution_count": 2,
   "metadata": {},
   "outputs": [
    {
     "data": {
      "text/plain": [
       "({'server': 'Werkzeug/3.0.6 Python/3.12.4',\n",
       "  'date': 'Sat, 26 Oct 2024 05:06:43 GMT',\n",
       "  'content-type': 'application/json',\n",
       "  'content-length': '22',\n",
       "  'connection': 'close',\n",
       "  'status': '200',\n",
       "  'content-location': 'http://127.0.0.1:5000/api/health'},\n",
       " b'{\"status\": \"healthy\"}\\n')"
      ]
     },
     "execution_count": 2,
     "metadata": {},
     "output_type": "execute_result"
    }
   ],
   "source": [
    "from libs.shared.utils.http import get\n",
    "\n",
    "get('/health')"
   ]
  }
 ],
 "metadata": {
  "kernelspec": {
   "display_name": "explorer-mono-repo-mP_9dbZU-py3.12",
   "language": "python",
   "name": "python3"
  },
  "language_info": {
   "codemirror_mode": {
    "name": "ipython",
    "version": 3
   },
   "file_extension": ".py",
   "mimetype": "text/x-python",
   "name": "python",
   "nbconvert_exporter": "python",
   "pygments_lexer": "ipython3",
   "version": "3.12.4"
  }
 },
 "nbformat": 4,
 "nbformat_minor": 2
}
